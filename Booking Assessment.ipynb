{
 "cells": [
  {
   "cell_type": "markdown",
   "id": "dcb32dff",
   "metadata": {},
   "source": [
    "# BOOKING DATA ANALYSIS"
   ]
  },
  {
   "cell_type": "markdown",
   "id": "0d6b4202",
   "metadata": {},
   "source": [
    "### Importing the Necessary Libraries for the Analysis"
   ]
  },
  {
   "cell_type": "code",
   "execution_count": 100,
   "id": "fc18a653",
   "metadata": {},
   "outputs": [],
   "source": [
    "import pandas as pd\n",
    "import numpy as np\n",
    "import seaborn as sns\n",
    "import matplotlib.pyplot as plt\n",
    "from forex_python.converter import CurrencyRates\n",
    "from IPython.core.display import HTML"
   ]
  },
  {
   "cell_type": "markdown",
   "id": "7cfd5486",
   "metadata": {},
   "source": [
    "### Reading the excel file"
   ]
  },
  {
   "cell_type": "code",
   "execution_count": 2,
   "id": "149f4d19",
   "metadata": {},
   "outputs": [],
   "source": [
    "df = pd.read_excel(r\"C:/Users/35387/Desktop/MiQDigital Assessments/Travel_data_set.xlsx\")"
   ]
  },
  {
   "cell_type": "code",
   "execution_count": 3,
   "id": "949573e9",
   "metadata": {},
   "outputs": [
    {
     "data": {
      "text/html": [
       "<div>\n",
       "<style scoped>\n",
       "    .dataframe tbody tr th:only-of-type {\n",
       "        vertical-align: middle;\n",
       "    }\n",
       "\n",
       "    .dataframe tbody tr th {\n",
       "        vertical-align: top;\n",
       "    }\n",
       "\n",
       "    .dataframe thead th {\n",
       "        text-align: right;\n",
       "    }\n",
       "</style>\n",
       "<table border=\"1\" class=\"dataframe\">\n",
       "  <thead>\n",
       "    <tr style=\"text-align: right;\">\n",
       "      <th></th>\n",
       "      <th>Date</th>\n",
       "      <th>Cookie ID</th>\n",
       "      <th>Source</th>\n",
       "      <th>Hotel Name</th>\n",
       "      <th>No. of nights</th>\n",
       "      <th>Room Type</th>\n",
       "      <th>Date of Arrival</th>\n",
       "      <th>Hotel location city</th>\n",
       "      <th>Hotel location country</th>\n",
       "      <th>Customer location - city</th>\n",
       "      <th>Customer location - country</th>\n",
       "      <th>Hotel Tier</th>\n",
       "      <th>Payment Type</th>\n",
       "      <th>Currency</th>\n",
       "      <th>Total Price</th>\n",
       "      <th>Customer language</th>\n",
       "      <th>No. of rooms</th>\n",
       "    </tr>\n",
       "  </thead>\n",
       "  <tbody>\n",
       "    <tr>\n",
       "      <th>0</th>\n",
       "      <td>2017-09-25 00:03:54</td>\n",
       "      <td>5814471915578251610</td>\n",
       "      <td>Mozilla/5.0 (Windows NT 10.0; WOW64; Trident/7...</td>\n",
       "      <td>DoubleTree Club by Hilton Hotel Boston Bayside</td>\n",
       "      <td>4</td>\n",
       "      <td>ONE KING BED</td>\n",
       "      <td>2017-11-01</td>\n",
       "      <td>Boston,MA</td>\n",
       "      <td>US</td>\n",
       "      <td>OAK HILL,VA</td>\n",
       "      <td>US</td>\n",
       "      <td>Silver</td>\n",
       "      <td>AX</td>\n",
       "      <td>USD</td>\n",
       "      <td>748.44</td>\n",
       "      <td>en</td>\n",
       "      <td>1</td>\n",
       "    </tr>\n",
       "    <tr>\n",
       "      <th>1</th>\n",
       "      <td>2017-09-25 00:10:02</td>\n",
       "      <td>1096121688080343035</td>\n",
       "      <td>Mozilla/5.0 (iPhone; CPU iPhone OS 10_3_3 like...</td>\n",
       "      <td>Hilton Garden Inn Pigeon Forge</td>\n",
       "      <td>2</td>\n",
       "      <td>2 QUEEN BEDS</td>\n",
       "      <td>2017-10-06</td>\n",
       "      <td>Pigeon Forge,TN</td>\n",
       "      <td>US</td>\n",
       "      <td>ALBERTVILLE,AL</td>\n",
       "      <td>US</td>\n",
       "      <td>Blue</td>\n",
       "      <td>DS</td>\n",
       "      <td>USD</td>\n",
       "      <td>438.00</td>\n",
       "      <td>en</td>\n",
       "      <td>1</td>\n",
       "    </tr>\n",
       "    <tr>\n",
       "      <th>2</th>\n",
       "      <td>2017-09-25 00:15:02</td>\n",
       "      <td>8909957529622268233</td>\n",
       "      <td>Mozilla/5.0 (iPhone; CPU iPhone OS 10_3_3 like...</td>\n",
       "      <td>Hilton Los Angeles/Universal City</td>\n",
       "      <td>5</td>\n",
       "      <td>2 QUEEN BEDS</td>\n",
       "      <td>2018-05-13</td>\n",
       "      <td>Universal City,CA</td>\n",
       "      <td>US</td>\n",
       "      <td>SAN JOSE,CA</td>\n",
       "      <td>US</td>\n",
       "      <td>Gold</td>\n",
       "      <td>MC</td>\n",
       "      <td>USD</td>\n",
       "      <td>225.00</td>\n",
       "      <td>en</td>\n",
       "      <td>1</td>\n",
       "    </tr>\n",
       "    <tr>\n",
       "      <th>3</th>\n",
       "      <td>2017-09-25 00:20:29</td>\n",
       "      <td>7221406028471065999</td>\n",
       "      <td>Mozilla/5.0 (Macintosh; Intel Mac OS X 10_10_5...</td>\n",
       "      <td>Hampton Inn Dover</td>\n",
       "      <td>2</td>\n",
       "      <td>2 QNS MICROWV/FRIDGE NS</td>\n",
       "      <td>2018-01-05</td>\n",
       "      <td>Dover,NH</td>\n",
       "      <td>US</td>\n",
       "      <td>SHELBURNE,VT</td>\n",
       "      <td>US</td>\n",
       "      <td>Gold</td>\n",
       "      <td>AX</td>\n",
       "      <td>USD</td>\n",
       "      <td>18.84</td>\n",
       "      <td>en</td>\n",
       "      <td>1</td>\n",
       "    </tr>\n",
       "    <tr>\n",
       "      <th>4</th>\n",
       "      <td>2017-09-25 00:26:37</td>\n",
       "      <td>7373995207228845031</td>\n",
       "      <td>Mozilla/5.0 (Windows NT 10.0; WOW64; rv:55.0) ...</td>\n",
       "      <td>Hampton Inn Santee-I-95</td>\n",
       "      <td>1</td>\n",
       "      <td>1 KING BED OTHER NONSMOK</td>\n",
       "      <td>2017-10-14</td>\n",
       "      <td>Santee,SC</td>\n",
       "      <td>US</td>\n",
       "      <td>FAYETTEVILLE,NY</td>\n",
       "      <td>US</td>\n",
       "      <td>Silver</td>\n",
       "      <td>VI</td>\n",
       "      <td>USD</td>\n",
       "      <td>132.05</td>\n",
       "      <td>en</td>\n",
       "      <td>1</td>\n",
       "    </tr>\n",
       "  </tbody>\n",
       "</table>\n",
       "</div>"
      ],
      "text/plain": [
       "                 Date            Cookie ID  \\\n",
       "0 2017-09-25 00:03:54  5814471915578251610   \n",
       "1 2017-09-25 00:10:02  1096121688080343035   \n",
       "2 2017-09-25 00:15:02  8909957529622268233   \n",
       "3 2017-09-25 00:20:29  7221406028471065999   \n",
       "4 2017-09-25 00:26:37  7373995207228845031   \n",
       "\n",
       "                                              Source  \\\n",
       "0  Mozilla/5.0 (Windows NT 10.0; WOW64; Trident/7...   \n",
       "1  Mozilla/5.0 (iPhone; CPU iPhone OS 10_3_3 like...   \n",
       "2  Mozilla/5.0 (iPhone; CPU iPhone OS 10_3_3 like...   \n",
       "3  Mozilla/5.0 (Macintosh; Intel Mac OS X 10_10_5...   \n",
       "4  Mozilla/5.0 (Windows NT 10.0; WOW64; rv:55.0) ...   \n",
       "\n",
       "                                       Hotel Name  No. of nights  \\\n",
       "0  DoubleTree Club by Hilton Hotel Boston Bayside              4   \n",
       "1                  Hilton Garden Inn Pigeon Forge              2   \n",
       "2               Hilton Los Angeles/Universal City              5   \n",
       "3                               Hampton Inn Dover              2   \n",
       "4                         Hampton Inn Santee-I-95              1   \n",
       "\n",
       "                  Room Type Date of Arrival Hotel location city  \\\n",
       "0              ONE KING BED      2017-11-01           Boston,MA   \n",
       "1              2 QUEEN BEDS      2017-10-06     Pigeon Forge,TN   \n",
       "2              2 QUEEN BEDS      2018-05-13   Universal City,CA   \n",
       "3   2 QNS MICROWV/FRIDGE NS      2018-01-05            Dover,NH   \n",
       "4  1 KING BED OTHER NONSMOK      2017-10-14           Santee,SC   \n",
       "\n",
       "  Hotel location country Customer location - city Customer location - country  \\\n",
       "0                     US              OAK HILL,VA                          US   \n",
       "1                     US           ALBERTVILLE,AL                          US   \n",
       "2                     US              SAN JOSE,CA                          US   \n",
       "3                     US             SHELBURNE,VT                          US   \n",
       "4                     US          FAYETTEVILLE,NY                          US   \n",
       "\n",
       "  Hotel Tier Payment Type Currency  Total Price Customer language  \\\n",
       "0     Silver           AX      USD       748.44                en   \n",
       "1       Blue           DS      USD       438.00                en   \n",
       "2       Gold           MC      USD       225.00                en   \n",
       "3       Gold           AX      USD        18.84                en   \n",
       "4     Silver           VI      USD       132.05                en   \n",
       "\n",
       "   No. of rooms  \n",
       "0             1  \n",
       "1             1  \n",
       "2             1  \n",
       "3             1  \n",
       "4             1  "
      ]
     },
     "execution_count": 3,
     "metadata": {},
     "output_type": "execute_result"
    }
   ],
   "source": [
    "df.head()"
   ]
  },
  {
   "cell_type": "markdown",
   "id": "ec402cd1",
   "metadata": {},
   "source": [
    "### Checking for fair bit of information about the dataset"
   ]
  },
  {
   "cell_type": "code",
   "execution_count": 4,
   "id": "f73a619f",
   "metadata": {},
   "outputs": [
    {
     "name": "stdout",
     "output_type": "stream",
     "text": [
      "<class 'pandas.core.frame.DataFrame'>\n",
      "RangeIndex: 270887 entries, 0 to 270886\n",
      "Data columns (total 17 columns):\n",
      " #   Column                       Non-Null Count   Dtype         \n",
      "---  ------                       --------------   -----         \n",
      " 0   Date                         270887 non-null  datetime64[ns]\n",
      " 1   Cookie ID                    270887 non-null  int64         \n",
      " 2   Source                       270887 non-null  object        \n",
      " 3   Hotel Name                   270887 non-null  object        \n",
      " 4   No. of nights                270887 non-null  int64         \n",
      " 5   Room Type                    270887 non-null  object        \n",
      " 6   Date of Arrival              270887 non-null  datetime64[ns]\n",
      " 7   Hotel location city          270887 non-null  object        \n",
      " 8   Hotel location country       270872 non-null  object        \n",
      " 9   Customer location - city     270886 non-null  object        \n",
      " 10  Customer location - country  270885 non-null  object        \n",
      " 11  Hotel Tier                   270887 non-null  object        \n",
      " 12  Payment Type                 270598 non-null  object        \n",
      " 13  Currency                     270887 non-null  object        \n",
      " 14  Total Price                  270887 non-null  float64       \n",
      " 15  Customer language            270886 non-null  object        \n",
      " 16  No. of rooms                 270887 non-null  int64         \n",
      "dtypes: datetime64[ns](2), float64(1), int64(3), object(11)\n",
      "memory usage: 35.1+ MB\n"
     ]
    }
   ],
   "source": [
    "df.info()"
   ]
  },
  {
   "cell_type": "code",
   "execution_count": 5,
   "id": "a508ee77",
   "metadata": {},
   "outputs": [
    {
     "data": {
      "text/html": [
       "<div>\n",
       "<style scoped>\n",
       "    .dataframe tbody tr th:only-of-type {\n",
       "        vertical-align: middle;\n",
       "    }\n",
       "\n",
       "    .dataframe tbody tr th {\n",
       "        vertical-align: top;\n",
       "    }\n",
       "\n",
       "    .dataframe thead th {\n",
       "        text-align: right;\n",
       "    }\n",
       "</style>\n",
       "<table border=\"1\" class=\"dataframe\">\n",
       "  <thead>\n",
       "    <tr style=\"text-align: right;\">\n",
       "      <th></th>\n",
       "      <th>Cookie ID</th>\n",
       "      <th>No. of nights</th>\n",
       "      <th>Total Price</th>\n",
       "      <th>No. of rooms</th>\n",
       "    </tr>\n",
       "  </thead>\n",
       "  <tbody>\n",
       "    <tr>\n",
       "      <th>count</th>\n",
       "      <td>2.708870e+05</td>\n",
       "      <td>270887.000000</td>\n",
       "      <td>2.708870e+05</td>\n",
       "      <td>270887.000000</td>\n",
       "    </tr>\n",
       "    <tr>\n",
       "      <th>mean</th>\n",
       "      <td>4.607840e+18</td>\n",
       "      <td>1.928834</td>\n",
       "      <td>3.636500e+03</td>\n",
       "      <td>1.096011</td>\n",
       "    </tr>\n",
       "    <tr>\n",
       "      <th>std</th>\n",
       "      <td>2.655893e+18</td>\n",
       "      <td>1.840666</td>\n",
       "      <td>1.617917e+05</td>\n",
       "      <td>0.409248</td>\n",
       "    </tr>\n",
       "    <tr>\n",
       "      <th>min</th>\n",
       "      <td>2.921000e+03</td>\n",
       "      <td>0.000000</td>\n",
       "      <td>0.000000e+00</td>\n",
       "      <td>1.000000</td>\n",
       "    </tr>\n",
       "    <tr>\n",
       "      <th>25%</th>\n",
       "      <td>2.315169e+18</td>\n",
       "      <td>1.000000</td>\n",
       "      <td>9.900000e+01</td>\n",
       "      <td>1.000000</td>\n",
       "    </tr>\n",
       "    <tr>\n",
       "      <th>50%</th>\n",
       "      <td>4.609011e+18</td>\n",
       "      <td>1.000000</td>\n",
       "      <td>1.754200e+02</td>\n",
       "      <td>1.000000</td>\n",
       "    </tr>\n",
       "    <tr>\n",
       "      <th>75%</th>\n",
       "      <td>6.909598e+18</td>\n",
       "      <td>2.000000</td>\n",
       "      <td>3.690000e+02</td>\n",
       "      <td>1.000000</td>\n",
       "    </tr>\n",
       "    <tr>\n",
       "      <th>max</th>\n",
       "      <td>9.223284e+18</td>\n",
       "      <td>211.000000</td>\n",
       "      <td>5.335200e+07</td>\n",
       "      <td>9.000000</td>\n",
       "    </tr>\n",
       "  </tbody>\n",
       "</table>\n",
       "</div>"
      ],
      "text/plain": [
       "          Cookie ID  No. of nights   Total Price   No. of rooms\n",
       "count  2.708870e+05  270887.000000  2.708870e+05  270887.000000\n",
       "mean   4.607840e+18       1.928834  3.636500e+03       1.096011\n",
       "std    2.655893e+18       1.840666  1.617917e+05       0.409248\n",
       "min    2.921000e+03       0.000000  0.000000e+00       1.000000\n",
       "25%    2.315169e+18       1.000000  9.900000e+01       1.000000\n",
       "50%    4.609011e+18       1.000000  1.754200e+02       1.000000\n",
       "75%    6.909598e+18       2.000000  3.690000e+02       1.000000\n",
       "max    9.223284e+18     211.000000  5.335200e+07       9.000000"
      ]
     },
     "execution_count": 5,
     "metadata": {},
     "output_type": "execute_result"
    }
   ],
   "source": [
    "df.describe()"
   ]
  },
  {
   "cell_type": "code",
   "execution_count": 6,
   "id": "e5cccd6d",
   "metadata": {},
   "outputs": [
    {
     "data": {
      "text/plain": [
       "(270887, 17)"
      ]
     },
     "execution_count": 6,
     "metadata": {},
     "output_type": "execute_result"
    }
   ],
   "source": [
    "df.shape"
   ]
  },
  {
   "cell_type": "markdown",
   "id": "0b73d65f",
   "metadata": {},
   "source": [
    "### Datatypes of respective features of the data"
   ]
  },
  {
   "cell_type": "code",
   "execution_count": 7,
   "id": "c004dbe5",
   "metadata": {},
   "outputs": [
    {
     "data": {
      "text/plain": [
       "Date                           datetime64[ns]\n",
       "Cookie ID                               int64\n",
       "Source                                 object\n",
       "Hotel Name                             object\n",
       "No. of nights                           int64\n",
       "Room Type                              object\n",
       "Date of Arrival                datetime64[ns]\n",
       "Hotel location city                    object\n",
       "Hotel location country                 object\n",
       "Customer location - city               object\n",
       "Customer location - country            object\n",
       "Hotel Tier                             object\n",
       "Payment Type                           object\n",
       "Currency                               object\n",
       "Total Price                           float64\n",
       "Customer language                      object\n",
       "No. of rooms                            int64\n",
       "dtype: object"
      ]
     },
     "execution_count": 7,
     "metadata": {},
     "output_type": "execute_result"
    }
   ],
   "source": [
    "df.dtypes"
   ]
  },
  {
   "cell_type": "markdown",
   "id": "7641291e",
   "metadata": {},
   "source": [
    "### Checking the number of null values within the dataset"
   ]
  },
  {
   "cell_type": "code",
   "execution_count": 8,
   "id": "071daadb",
   "metadata": {},
   "outputs": [
    {
     "data": {
      "text/plain": [
       "Date                             0\n",
       "Cookie ID                        0\n",
       "Source                           0\n",
       "Hotel Name                       0\n",
       "No. of nights                    0\n",
       "Room Type                        0\n",
       "Date of Arrival                  0\n",
       "Hotel location city              0\n",
       "Hotel location country          15\n",
       "Customer location - city         1\n",
       "Customer location - country      2\n",
       "Hotel Tier                       0\n",
       "Payment Type                   289\n",
       "Currency                         0\n",
       "Total Price                      0\n",
       "Customer language                1\n",
       "No. of rooms                     0\n",
       "dtype: int64"
      ]
     },
     "execution_count": 8,
     "metadata": {},
     "output_type": "execute_result"
    }
   ],
   "source": [
    "df.isnull().sum()"
   ]
  },
  {
   "cell_type": "code",
   "execution_count": 9,
   "id": "20a73469",
   "metadata": {},
   "outputs": [],
   "source": [
    "df = df.rename(columns = {'Hotel Tier': 'Hotel_Tier', 'Total Price': 'Total_Price', 'No. of rooms': 'No_of_rooms'}, inplace = False)"
   ]
  },
  {
   "cell_type": "markdown",
   "id": "108808d4",
   "metadata": {},
   "source": [
    "### Hotel Tier Analysis based on bookings"
   ]
  },
  {
   "cell_type": "code",
   "execution_count": 90,
   "id": "2947c0c4",
   "metadata": {},
   "outputs": [
    {
     "data": {
      "image/png": "[encoded data removed]",
      "text/plain": [
       "<Figure size 720x576 with 1 Axes>"
      ]
     },
     "metadata": {},
     "output_type": "display_data"
    }
   ],
   "source": [
    "Hotel_Tier = [\"Silver\", \"Diamond\", \"Gold\", \"Blue\"]\n",
    "booking = df.Hotel_Tier.value_counts()\n",
    "color = [\"r\", \"k\", \"y\", \"b\"]\n",
    "\n",
    "plt.figure(figsize = (10, 8))\n",
    "plt.pie(booking, labels = Hotel_Tier, colors = color, explode = (0.11, 0, 0, 0), textprops = {'color':\"w\"}, autopct = \"%.2f%%\", shadow = True, startangle = 120)\n",
    "\n",
    "plt.legend()\n",
    "\n",
    "plt.show();"
   ]
  },
  {
   "cell_type": "code",
   "execution_count": 12,
   "id": "978bdf39",
   "metadata": {},
   "outputs": [
    {
     "data": {
      "text/plain": [
       "<AxesSubplot:xlabel='Hotel_Tier', ylabel='count'>"
      ]
     },
     "execution_count": 12,
     "metadata": {},
     "output_type": "execute_result"
    },
    {
     "data": {
      "image/png": "[encoded data removed]",
      "text/plain": [
       "<Figure size 864x504 with 1 Axes>"
      ]
     },
     "metadata": {
      "needs_background": "light"
     },
     "output_type": "display_data"
    }
   ],
   "source": [
    "plt.figure(figsize=(12, 7))\n",
    "sns.countplot(x='Hotel_Tier',data=df)"
   ]
  },
  {
   "cell_type": "code",
   "execution_count": 13,
   "id": "5f2e2dd4",
   "metadata": {},
   "outputs": [
    {
     "data": {
      "text/plain": [
       "Silver     87637\n",
       "Diamond    63214\n",
       "Gold       63019\n",
       "Blue       57017\n",
       "Name: Hotel_Tier, dtype: int64"
      ]
     },
     "execution_count": 13,
     "metadata": {},
     "output_type": "execute_result"
    }
   ],
   "source": [
    "df[\"Hotel_Tier\"].value_counts()"
   ]
  },
  {
   "cell_type": "code",
   "execution_count": 17,
   "id": "ff55b5d2",
   "metadata": {},
   "outputs": [
    {
     "data": {
      "text/plain": [
       "1    250753\n",
       "2     16780\n",
       "3      2104\n",
       "4       664\n",
       "5       256\n",
       "6       150\n",
       "8        68\n",
       "7        59\n",
       "9        53\n",
       "Name: No_of_rooms, dtype: int64"
      ]
     },
     "execution_count": 17,
     "metadata": {},
     "output_type": "execute_result"
    }
   ],
   "source": [
    "df[\"No_of_rooms\"].value_counts()"
   ]
  },
  {
   "cell_type": "markdown",
   "id": "e2f5123f",
   "metadata": {},
   "source": [
    "### Creating a dictionary using the existing excel sheet to convert all currencies into USD"
   ]
  },
  {
   "cell_type": "code",
   "execution_count": 91,
   "id": "5518153e",
   "metadata": {},
   "outputs": [],
   "source": [
    "list1 = {\"AMD\":482.36, \"AED\":3.67, \"ARS\":17.66, \"AUD\":1.31, \"AZN\":1.7, \"BRL\":3.28, \"CAD\":1.29, \"CHF\": 1, \"USD\": 1, \"CNY\":6.63, \"COP\":3028.72, \"CZK\":22.05, \"EUR\":0.86, \"FJD\":2.08, \"GBP\":0.75, \"HKD\":7.8, \"IDR\":13564.99, \"INR\":64.75, \"ISK\":105.39, \"JOD\":0.71, \"JPY\":113.45, \"KRW\":1117.99, \"KWD\":0.3, \"MAD\":9.5, \"MXN\":19.18, \"MYR\":4.23, \"NAD\":14.17, \"NGN\":360, \"NZD\":1.46, \"OMR\":0.38, \"PHP\":51.63, \"PLN\":3.65, \"QAR\":3.8, \"RON\":3.95, \"RUB\":58.45, \"SAR\":3.75, \"SEK\":8.37, \"SGD\": 1.36, \"THB\":33.28, \"TRY\":3.81, \"XAF\":563.59, \"XPF\":102.53, \"ZAR\": 14.16}"
   ]
  },
  {
   "cell_type": "code",
   "execution_count": 92,
   "id": "7f8030ba",
   "metadata": {},
   "outputs": [
    {
     "data": {
      "text/plain": [
       "dict"
      ]
     },
     "execution_count": 92,
     "metadata": {},
     "output_type": "execute_result"
    }
   ],
   "source": [
    "type(list1)"
   ]
  },
  {
   "cell_type": "code",
   "execution_count": 93,
   "id": "b838f15c",
   "metadata": {},
   "outputs": [
    {
     "name": "stdout",
     "output_type": "stream",
     "text": [
      "AMD\n",
      "AED\n",
      "ARS\n",
      "AUD\n",
      "AZN\n",
      "BRL\n",
      "CAD\n",
      "CHF\n",
      "USD\n",
      "CNY\n",
      "COP\n",
      "CZK\n",
      "EUR\n",
      "FJD\n",
      "GBP\n",
      "HKD\n",
      "IDR\n",
      "INR\n",
      "ISK\n",
      "JOD\n",
      "JPY\n",
      "KRW\n",
      "KWD\n",
      "MAD\n",
      "MXN\n",
      "MYR\n",
      "NAD\n",
      "NGN\n",
      "NZD\n",
      "OMR\n",
      "PHP\n",
      "PLN\n",
      "QAR\n",
      "RON\n",
      "RUB\n",
      "SAR\n",
      "SEK\n",
      "SGD\n",
      "THB\n",
      "TRY\n",
      "XAF\n",
      "XPF\n",
      "ZAR\n"
     ]
    }
   ],
   "source": [
    "for i in list1:\n",
    "    print(i)"
   ]
  },
  {
   "cell_type": "code",
   "execution_count": 94,
   "id": "32b0b83f",
   "metadata": {},
   "outputs": [],
   "source": [
    "t = []\n",
    "for i in df[\"Currency\"]:\n",
    "    for key, value in list1.items():\n",
    "        if i == key:\n",
    "            t.append(value)"
   ]
  },
  {
   "cell_type": "code",
   "execution_count": 23,
   "id": "9627fc9c",
   "metadata": {},
   "outputs": [],
   "source": [
    "df[\"New\"] = t"
   ]
  },
  {
   "cell_type": "code",
   "execution_count": 24,
   "id": "b4909530",
   "metadata": {},
   "outputs": [],
   "source": [
    "df[\"Price_In_USD\"] = df[\"Total_Price\"]/df[\"New\"]"
   ]
  },
  {
   "cell_type": "markdown",
   "id": "17f97a71",
   "metadata": {},
   "source": [
    "### Dropping a column as it is no more useful"
   ]
  },
  {
   "cell_type": "code",
   "execution_count": 25,
   "id": "1aed2b64",
   "metadata": {},
   "outputs": [],
   "source": [
    "df = df.drop(\"New\", axis=1)"
   ]
  },
  {
   "cell_type": "markdown",
   "id": "1a2795ec",
   "metadata": {},
   "source": [
    "### Checking once for the conversion if it has been succesfully made"
   ]
  },
  {
   "cell_type": "code",
   "execution_count": 26,
   "id": "a37f1994",
   "metadata": {},
   "outputs": [
    {
     "data": {
      "text/html": [
       "<div>\n",
       "<style scoped>\n",
       "    .dataframe tbody tr th:only-of-type {\n",
       "        vertical-align: middle;\n",
       "    }\n",
       "\n",
       "    .dataframe tbody tr th {\n",
       "        vertical-align: top;\n",
       "    }\n",
       "\n",
       "    .dataframe thead th {\n",
       "        text-align: right;\n",
       "    }\n",
       "</style>\n",
       "<table border=\"1\" class=\"dataframe\">\n",
       "  <thead>\n",
       "    <tr style=\"text-align: right;\">\n",
       "      <th></th>\n",
       "      <th>Date</th>\n",
       "      <th>Cookie ID</th>\n",
       "      <th>Source</th>\n",
       "      <th>Hotel Name</th>\n",
       "      <th>No. of nights</th>\n",
       "      <th>Room Type</th>\n",
       "      <th>Date of Arrival</th>\n",
       "      <th>Hotel location city</th>\n",
       "      <th>Hotel location country</th>\n",
       "      <th>Customer location - city</th>\n",
       "      <th>Customer location - country</th>\n",
       "      <th>Hotel_Tier</th>\n",
       "      <th>Payment Type</th>\n",
       "      <th>Currency</th>\n",
       "      <th>Total_Price</th>\n",
       "      <th>Customer language</th>\n",
       "      <th>No_of_rooms</th>\n",
       "      <th>Price_In_USD</th>\n",
       "    </tr>\n",
       "  </thead>\n",
       "  <tbody>\n",
       "    <tr>\n",
       "      <th>270867</th>\n",
       "      <td>2017-09-29 21:52:21</td>\n",
       "      <td>858866822190105525</td>\n",
       "      <td>Mozilla/5.0 (Macintosh; Intel Mac OS X 10_10_2...</td>\n",
       "      <td>Hilton Cleveland Downtown</td>\n",
       "      <td>3</td>\n",
       "      <td>HIGH FLOOR-2 QUEEN BEDS</td>\n",
       "      <td>2017-11-22</td>\n",
       "      <td>Cleveland,OH</td>\n",
       "      <td>US</td>\n",
       "      <td>BOCA RATON,FL</td>\n",
       "      <td>US</td>\n",
       "      <td>Silver</td>\n",
       "      <td>MC</td>\n",
       "      <td>USD</td>\n",
       "      <td>421.35</td>\n",
       "      <td>en</td>\n",
       "      <td>1</td>\n",
       "      <td>421.35000</td>\n",
       "    </tr>\n",
       "    <tr>\n",
       "      <th>270868</th>\n",
       "      <td>2017-09-29 21:58:19</td>\n",
       "      <td>5309103886642976543</td>\n",
       "      <td>Mozilla/5.0 (Macintosh; Intel Mac OS X 10.12; ...</td>\n",
       "      <td>Hilton Crystal City at Washington Reagan Natio...</td>\n",
       "      <td>2</td>\n",
       "      <td>1 KING BED</td>\n",
       "      <td>2017-10-16</td>\n",
       "      <td>Arlington,VA</td>\n",
       "      <td>US</td>\n",
       "      <td>CHULA VISTA,CA</td>\n",
       "      <td>US</td>\n",
       "      <td>Diamond</td>\n",
       "      <td>AX</td>\n",
       "      <td>USD</td>\n",
       "      <td>550.00</td>\n",
       "      <td>en</td>\n",
       "      <td>1</td>\n",
       "      <td>550.00000</td>\n",
       "    </tr>\n",
       "    <tr>\n",
       "      <th>270869</th>\n",
       "      <td>2017-09-29 22:03:09</td>\n",
       "      <td>8090910188726160616</td>\n",
       "      <td>Mozilla/5.0 (iPad; CPU OS 9_3_5 like Mac OS X)...</td>\n",
       "      <td>Hilton Garden Inn Times Square</td>\n",
       "      <td>2</td>\n",
       "      <td>1 KING CORNER SOFABED NS</td>\n",
       "      <td>2017-12-15</td>\n",
       "      <td>New York,NY</td>\n",
       "      <td>US</td>\n",
       "      <td>MARIETTA,GA</td>\n",
       "      <td>US</td>\n",
       "      <td>Silver</td>\n",
       "      <td>VI</td>\n",
       "      <td>USD</td>\n",
       "      <td>627.30</td>\n",
       "      <td>en</td>\n",
       "      <td>1</td>\n",
       "      <td>627.30000</td>\n",
       "    </tr>\n",
       "    <tr>\n",
       "      <th>270870</th>\n",
       "      <td>2017-09-29 22:08:35</td>\n",
       "      <td>1494172580651712481</td>\n",
       "      <td>Mozilla/5.0 (Windows NT 10.0; Win64; x64) Appl...</td>\n",
       "      <td>DoubleTree by Hilton Hotel Jacksonville Airport</td>\n",
       "      <td>1</td>\n",
       "      <td>2 QUEEN BEDS</td>\n",
       "      <td>2017-10-20</td>\n",
       "      <td>Jacksonville,FL</td>\n",
       "      <td>US</td>\n",
       "      <td>SAN DIEGO,CA</td>\n",
       "      <td>US</td>\n",
       "      <td>Diamond</td>\n",
       "      <td>AX</td>\n",
       "      <td>USD</td>\n",
       "      <td>0.00</td>\n",
       "      <td>en</td>\n",
       "      <td>1</td>\n",
       "      <td>0.00000</td>\n",
       "    </tr>\n",
       "    <tr>\n",
       "      <th>270871</th>\n",
       "      <td>2017-09-29 22:14:57</td>\n",
       "      <td>7306297704832500198</td>\n",
       "      <td>Mozilla/5.0 (Macintosh; Intel Mac OS X 10_11_2...</td>\n",
       "      <td>Hilton Sedona Resort at Bell Rock</td>\n",
       "      <td>1</td>\n",
       "      <td>1 KING PREMIUM SUITE NS,1 KING PREMIUM SUITE NS</td>\n",
       "      <td>2017-12-30</td>\n",
       "      <td>Sedona,AZ</td>\n",
       "      <td>US</td>\n",
       "      <td>ORLANDO,FL</td>\n",
       "      <td>US</td>\n",
       "      <td>Blue</td>\n",
       "      <td>MC</td>\n",
       "      <td>USD</td>\n",
       "      <td>720.00</td>\n",
       "      <td>en</td>\n",
       "      <td>2</td>\n",
       "      <td>720.00000</td>\n",
       "    </tr>\n",
       "    <tr>\n",
       "      <th>270872</th>\n",
       "      <td>2017-09-29 22:23:30</td>\n",
       "      <td>7189689319005691677</td>\n",
       "      <td>Mozilla/5.0 (Windows NT 6.1; WOW64; Trident/7....</td>\n",
       "      <td>Hilton Garden Inn Kauai Wailua Bay</td>\n",
       "      <td>4</td>\n",
       "      <td>1KG JUNIOR SUITE OCEAN VW</td>\n",
       "      <td>2017-10-02</td>\n",
       "      <td>Kapaa,HI</td>\n",
       "      <td>US</td>\n",
       "      <td>GLOUCESTER,VA</td>\n",
       "      <td>US</td>\n",
       "      <td>Blue</td>\n",
       "      <td>VI</td>\n",
       "      <td>USD</td>\n",
       "      <td>819.28</td>\n",
       "      <td>en</td>\n",
       "      <td>1</td>\n",
       "      <td>819.28000</td>\n",
       "    </tr>\n",
       "    <tr>\n",
       "      <th>270873</th>\n",
       "      <td>2017-09-29 22:31:01</td>\n",
       "      <td>7851511482026514605</td>\n",
       "      <td>Mozilla/5.0 (Windows NT 6.1; WOW64; rv:55.0) G...</td>\n",
       "      <td>Hilton Garden Inn Waikiki Beach</td>\n",
       "      <td>3</td>\n",
       "      <td>1 KING W SOFA STD CITY VW</td>\n",
       "      <td>2017-10-02</td>\n",
       "      <td>Honolulu,HI</td>\n",
       "      <td>US</td>\n",
       "      <td>BELLEVILLE,IL</td>\n",
       "      <td>US</td>\n",
       "      <td>Diamond</td>\n",
       "      <td>AX</td>\n",
       "      <td>USD</td>\n",
       "      <td>531.00</td>\n",
       "      <td>en</td>\n",
       "      <td>1</td>\n",
       "      <td>531.00000</td>\n",
       "    </tr>\n",
       "    <tr>\n",
       "      <th>270874</th>\n",
       "      <td>2017-09-29 22:37:43</td>\n",
       "      <td>3635210593875417196</td>\n",
       "      <td>Mozilla/5.0 (Windows NT 6.1; Trident/7.0; rv:1...</td>\n",
       "      <td>Hampton Inn by Hilton Silao-Aeropuerto Bajio</td>\n",
       "      <td>1</td>\n",
       "      <td>1KING W/FRIDGE NONSMOKING</td>\n",
       "      <td>2017-10-04</td>\n",
       "      <td>Silao,GUA</td>\n",
       "      <td>MX</td>\n",
       "      <td>HUBER HEIGHTS,OH</td>\n",
       "      <td>US</td>\n",
       "      <td>Diamond</td>\n",
       "      <td>VI</td>\n",
       "      <td>MXN</td>\n",
       "      <td>1749.30</td>\n",
       "      <td>en</td>\n",
       "      <td>1</td>\n",
       "      <td>91.20438</td>\n",
       "    </tr>\n",
       "    <tr>\n",
       "      <th>270875</th>\n",
       "      <td>2017-09-29 22:44:56</td>\n",
       "      <td>2823925027440428482</td>\n",
       "      <td>Mozilla/5.0 (iPhone; CPU iPhone OS 11_0 like M...</td>\n",
       "      <td>Hilton Garden Inn Savannah Midtown</td>\n",
       "      <td>1</td>\n",
       "      <td>2 QUEEN BEDS</td>\n",
       "      <td>2017-09-29</td>\n",
       "      <td>Savannah,GA</td>\n",
       "      <td>US</td>\n",
       "      <td>SAVANNAH,GA</td>\n",
       "      <td>US</td>\n",
       "      <td>Silver</td>\n",
       "      <td>MC</td>\n",
       "      <td>USD</td>\n",
       "      <td>35.00</td>\n",
       "      <td>en</td>\n",
       "      <td>1</td>\n",
       "      <td>35.00000</td>\n",
       "    </tr>\n",
       "    <tr>\n",
       "      <th>270876</th>\n",
       "      <td>2017-09-29 22:53:26</td>\n",
       "      <td>2579676412656676488</td>\n",
       "      <td>Mozilla/5.0 (Windows NT 6.1; WOW64; rv:56.0) G...</td>\n",
       "      <td>Hilton Los Angeles Airport</td>\n",
       "      <td>1</td>\n",
       "      <td>2 DOUBLE BEDS</td>\n",
       "      <td>2017-11-29</td>\n",
       "      <td>Los Angeles,CA</td>\n",
       "      <td>US</td>\n",
       "      <td>OXFORD,AL</td>\n",
       "      <td>US</td>\n",
       "      <td>Silver</td>\n",
       "      <td>VI</td>\n",
       "      <td>USD</td>\n",
       "      <td>89.50</td>\n",
       "      <td>en</td>\n",
       "      <td>1</td>\n",
       "      <td>89.50000</td>\n",
       "    </tr>\n",
       "    <tr>\n",
       "      <th>270877</th>\n",
       "      <td>2017-09-29 22:27:31</td>\n",
       "      <td>4105362390956922902</td>\n",
       "      <td>Mozilla/5.0 (Windows NT 6.1; WOW64) AppleWebKi...</td>\n",
       "      <td>Hilton Garden Inn San Francisco/Oakland Bay Br...</td>\n",
       "      <td>1</td>\n",
       "      <td>1QN MOB/HEARING ACC W/TUB</td>\n",
       "      <td>2017-10-25</td>\n",
       "      <td>Emeryville,CA</td>\n",
       "      <td>US</td>\n",
       "      <td>THOUSAND OAKS,CA</td>\n",
       "      <td>US</td>\n",
       "      <td>Blue</td>\n",
       "      <td>VI</td>\n",
       "      <td>USD</td>\n",
       "      <td>290.03</td>\n",
       "      <td>en</td>\n",
       "      <td>1</td>\n",
       "      <td>290.03000</td>\n",
       "    </tr>\n",
       "    <tr>\n",
       "      <th>270878</th>\n",
       "      <td>2017-09-29 23:03:44</td>\n",
       "      <td>4022849274721177855</td>\n",
       "      <td>Mozilla/5.0 (Linux; Android 6.0.1; SM-G550T1 B...</td>\n",
       "      <td>Hilton Garden Inn Ft. Lauderdale Airport-Cruis...</td>\n",
       "      <td>1</td>\n",
       "      <td>1 KING BED</td>\n",
       "      <td>2017-09-29</td>\n",
       "      <td>Dania,FL</td>\n",
       "      <td>US</td>\n",
       "      <td>WESTFIELD,MA</td>\n",
       "      <td>US</td>\n",
       "      <td>Blue</td>\n",
       "      <td>MC</td>\n",
       "      <td>USD</td>\n",
       "      <td>34.02</td>\n",
       "      <td>en</td>\n",
       "      <td>1</td>\n",
       "      <td>34.02000</td>\n",
       "    </tr>\n",
       "    <tr>\n",
       "      <th>270879</th>\n",
       "      <td>2017-09-29 23:11:02</td>\n",
       "      <td>2671222273751750659</td>\n",
       "      <td>Mozilla/5.0 (Macintosh; Intel Mac OS X 10_12_6...</td>\n",
       "      <td>DoubleTree by Hilton Hotel Metropolitan - New ...</td>\n",
       "      <td>1</td>\n",
       "      <td>KING BED NONSMOKING</td>\n",
       "      <td>2017-10-20</td>\n",
       "      <td>New York,NY</td>\n",
       "      <td>US</td>\n",
       "      <td>MINOOKA,IL</td>\n",
       "      <td>US</td>\n",
       "      <td>Silver</td>\n",
       "      <td>VI</td>\n",
       "      <td>USD</td>\n",
       "      <td>147.81</td>\n",
       "      <td>en</td>\n",
       "      <td>1</td>\n",
       "      <td>147.81000</td>\n",
       "    </tr>\n",
       "    <tr>\n",
       "      <th>270880</th>\n",
       "      <td>2017-09-29 23:16:43</td>\n",
       "      <td>2746556889676491366</td>\n",
       "      <td>Mozilla/5.0 (Windows NT 10.0; Win64; x64) Appl...</td>\n",
       "      <td>Hilton Chicago O'Hare Airport</td>\n",
       "      <td>1</td>\n",
       "      <td>1 KING BED</td>\n",
       "      <td>2017-10-21</td>\n",
       "      <td>Chicago,IL</td>\n",
       "      <td>US</td>\n",
       "      <td>Olathe,KS</td>\n",
       "      <td>US</td>\n",
       "      <td>Silver</td>\n",
       "      <td>VI</td>\n",
       "      <td>USD</td>\n",
       "      <td>152.00</td>\n",
       "      <td>en</td>\n",
       "      <td>1</td>\n",
       "      <td>152.00000</td>\n",
       "    </tr>\n",
       "    <tr>\n",
       "      <th>270881</th>\n",
       "      <td>2017-09-29 23:23:56</td>\n",
       "      <td>7332609173104846170</td>\n",
       "      <td>Mozilla/5.0 (Windows NT 10.0; WOW64; Trident/7...</td>\n",
       "      <td>Hilton Garden Inn Seattle/Issaquah</td>\n",
       "      <td>1</td>\n",
       "      <td>1 KING BED,1 KING BED,1 KING BED,1 KING BED</td>\n",
       "      <td>2017-12-04</td>\n",
       "      <td>Issaquah,WA</td>\n",
       "      <td>US</td>\n",
       "      <td>LA VERNE,CA</td>\n",
       "      <td>US</td>\n",
       "      <td>Silver</td>\n",
       "      <td>VI</td>\n",
       "      <td>USD</td>\n",
       "      <td>604.20</td>\n",
       "      <td>en</td>\n",
       "      <td>4</td>\n",
       "      <td>604.20000</td>\n",
       "    </tr>\n",
       "    <tr>\n",
       "      <th>270882</th>\n",
       "      <td>2017-09-29 23:30:45</td>\n",
       "      <td>8907615397011722254</td>\n",
       "      <td>Mozilla/5.0 (Windows NT 10.0; Win64; x64) Appl...</td>\n",
       "      <td>Homewood Suites by Hilton Waco, Texas</td>\n",
       "      <td>1</td>\n",
       "      <td>2QN 1BDRM LAKEVW STE NONSM</td>\n",
       "      <td>2017-10-01</td>\n",
       "      <td>Waco,TX</td>\n",
       "      <td>US</td>\n",
       "      <td>KINGWOOD,TX</td>\n",
       "      <td>US</td>\n",
       "      <td>Silver</td>\n",
       "      <td>AX</td>\n",
       "      <td>USD</td>\n",
       "      <td>134.10</td>\n",
       "      <td>en</td>\n",
       "      <td>1</td>\n",
       "      <td>134.10000</td>\n",
       "    </tr>\n",
       "    <tr>\n",
       "      <th>270883</th>\n",
       "      <td>2017-09-29 23:37:35</td>\n",
       "      <td>7584049822880561789</td>\n",
       "      <td>Mozilla/5.0 (Windows NT 6.1; Win64; x64) Apple...</td>\n",
       "      <td>Embassy Suites by Hilton Las Vegas</td>\n",
       "      <td>1</td>\n",
       "      <td>1 KING BED NONSMOKING</td>\n",
       "      <td>2017-09-29</td>\n",
       "      <td>Las Vegas,NV</td>\n",
       "      <td>US</td>\n",
       "      <td>TEMECULA,CA</td>\n",
       "      <td>US</td>\n",
       "      <td>Diamond</td>\n",
       "      <td>VI</td>\n",
       "      <td>USD</td>\n",
       "      <td>0.00</td>\n",
       "      <td>en</td>\n",
       "      <td>1</td>\n",
       "      <td>0.00000</td>\n",
       "    </tr>\n",
       "    <tr>\n",
       "      <th>270884</th>\n",
       "      <td>2017-09-29 23:45:06</td>\n",
       "      <td>655607579492722607</td>\n",
       "      <td>Mozilla/5.0 (iPhone; CPU iPhone OS 11_0 like M...</td>\n",
       "      <td>Hampton Inn Bowling Green</td>\n",
       "      <td>1</td>\n",
       "      <td>1 KING BED NONSMOKING</td>\n",
       "      <td>2017-09-29</td>\n",
       "      <td>Bowling Green,KY</td>\n",
       "      <td>US</td>\n",
       "      <td>MT LEBANON TOWNSHIP,PA</td>\n",
       "      <td>US</td>\n",
       "      <td>Diamond</td>\n",
       "      <td>VI</td>\n",
       "      <td>USD</td>\n",
       "      <td>116.62</td>\n",
       "      <td>en</td>\n",
       "      <td>1</td>\n",
       "      <td>116.62000</td>\n",
       "    </tr>\n",
       "    <tr>\n",
       "      <th>270885</th>\n",
       "      <td>2017-09-29 23:53:04</td>\n",
       "      <td>2699446214706722506</td>\n",
       "      <td>Mozilla/5.0 (Windows NT 10.0; Win64; x64) Appl...</td>\n",
       "      <td>Conrad Bangkok</td>\n",
       "      <td>3</td>\n",
       "      <td>KING BED DELUXE ROOM</td>\n",
       "      <td>2017-10-09</td>\n",
       "      <td>Bangkok,null</td>\n",
       "      <td>TH</td>\n",
       "      <td>ATLANTA,GA</td>\n",
       "      <td>US</td>\n",
       "      <td>Blue</td>\n",
       "      <td>VI</td>\n",
       "      <td>THB</td>\n",
       "      <td>13260.00</td>\n",
       "      <td>en</td>\n",
       "      <td>1</td>\n",
       "      <td>398.43750</td>\n",
       "    </tr>\n",
       "    <tr>\n",
       "      <th>270886</th>\n",
       "      <td>2017-09-29 23:31:17</td>\n",
       "      <td>1513103205936023015</td>\n",
       "      <td>Mozilla/5.0 (Windows NT 10.0; WOW64; Trident/7...</td>\n",
       "      <td>Hampton Inn Chicago/Westchester (Oak Brook)</td>\n",
       "      <td>2</td>\n",
       "      <td>1KING STUDY SOFABED NOSMOK</td>\n",
       "      <td>2017-11-11</td>\n",
       "      <td>Westchester,IL</td>\n",
       "      <td>US</td>\n",
       "      <td>BARDOWICK</td>\n",
       "      <td>DE</td>\n",
       "      <td>Gold</td>\n",
       "      <td>MC</td>\n",
       "      <td>USD</td>\n",
       "      <td>178.20</td>\n",
       "      <td>en</td>\n",
       "      <td>1</td>\n",
       "      <td>178.20000</td>\n",
       "    </tr>\n",
       "  </tbody>\n",
       "</table>\n",
       "</div>"
      ],
      "text/plain": [
       "                      Date            Cookie ID  \\\n",
       "270867 2017-09-29 21:52:21   858866822190105525   \n",
       "270868 2017-09-29 21:58:19  5309103886642976543   \n",
       "270869 2017-09-29 22:03:09  8090910188726160616   \n",
       "270870 2017-09-29 22:08:35  1494172580651712481   \n",
       "270871 2017-09-29 22:14:57  7306297704832500198   \n",
       "270872 2017-09-29 22:23:30  7189689319005691677   \n",
       "270873 2017-09-29 22:31:01  7851511482026514605   \n",
       "270874 2017-09-29 22:37:43  3635210593875417196   \n",
       "270875 2017-09-29 22:44:56  2823925027440428482   \n",
       "270876 2017-09-29 22:53:26  2579676412656676488   \n",
       "270877 2017-09-29 22:27:31  4105362390956922902   \n",
       "270878 2017-09-29 23:03:44  4022849274721177855   \n",
       "270879 2017-09-29 23:11:02  2671222273751750659   \n",
       "270880 2017-09-29 23:16:43  2746556889676491366   \n",
       "270881 2017-09-29 23:23:56  7332609173104846170   \n",
       "270882 2017-09-29 23:30:45  8907615397011722254   \n",
       "270883 2017-09-29 23:37:35  7584049822880561789   \n",
       "270884 2017-09-29 23:45:06   655607579492722607   \n",
       "270885 2017-09-29 23:53:04  2699446214706722506   \n",
       "270886 2017-09-29 23:31:17  1513103205936023015   \n",
       "\n",
       "                                                   Source  \\\n",
       "270867  Mozilla/5.0 (Macintosh; Intel Mac OS X 10_10_2...   \n",
       "270868  Mozilla/5.0 (Macintosh; Intel Mac OS X 10.12; ...   \n",
       "270869  Mozilla/5.0 (iPad; CPU OS 9_3_5 like Mac OS X)...   \n",
       "270870  Mozilla/5.0 (Windows NT 10.0; Win64; x64) Appl...   \n",
       "270871  Mozilla/5.0 (Macintosh; Intel Mac OS X 10_11_2...   \n",
       "270872  Mozilla/5.0 (Windows NT 6.1; WOW64; Trident/7....   \n",
       "270873  Mozilla/5.0 (Windows NT 6.1; WOW64; rv:55.0) G...   \n",
       "270874  Mozilla/5.0 (Windows NT 6.1; Trident/7.0; rv:1...   \n",
       "270875  Mozilla/5.0 (iPhone; CPU iPhone OS 11_0 like M...   \n",
       "270876  Mozilla/5.0 (Windows NT 6.1; WOW64; rv:56.0) G...   \n",
       "270877  Mozilla/5.0 (Windows NT 6.1; WOW64) AppleWebKi...   \n",
       "270878  Mozilla/5.0 (Linux; Android 6.0.1; SM-G550T1 B...   \n",
       "270879  Mozilla/5.0 (Macintosh; Intel Mac OS X 10_12_6...   \n",
       "270880  Mozilla/5.0 (Windows NT 10.0; Win64; x64) Appl...   \n",
       "270881  Mozilla/5.0 (Windows NT 10.0; WOW64; Trident/7...   \n",
       "270882  Mozilla/5.0 (Windows NT 10.0; Win64; x64) Appl...   \n",
       "270883  Mozilla/5.0 (Windows NT 6.1; Win64; x64) Apple...   \n",
       "270884  Mozilla/5.0 (iPhone; CPU iPhone OS 11_0 like M...   \n",
       "270885  Mozilla/5.0 (Windows NT 10.0; Win64; x64) Appl...   \n",
       "270886  Mozilla/5.0 (Windows NT 10.0; WOW64; Trident/7...   \n",
       "\n",
       "                                               Hotel Name  No. of nights  \\\n",
       "270867                          Hilton Cleveland Downtown              3   \n",
       "270868  Hilton Crystal City at Washington Reagan Natio...              2   \n",
       "270869                     Hilton Garden Inn Times Square              2   \n",
       "270870    DoubleTree by Hilton Hotel Jacksonville Airport              1   \n",
       "270871                  Hilton Sedona Resort at Bell Rock              1   \n",
       "270872                 Hilton Garden Inn Kauai Wailua Bay              4   \n",
       "270873                    Hilton Garden Inn Waikiki Beach              3   \n",
       "270874       Hampton Inn by Hilton Silao-Aeropuerto Bajio              1   \n",
       "270875                 Hilton Garden Inn Savannah Midtown              1   \n",
       "270876                         Hilton Los Angeles Airport              1   \n",
       "270877  Hilton Garden Inn San Francisco/Oakland Bay Br...              1   \n",
       "270878  Hilton Garden Inn Ft. Lauderdale Airport-Cruis...              1   \n",
       "270879  DoubleTree by Hilton Hotel Metropolitan - New ...              1   \n",
       "270880                      Hilton Chicago O'Hare Airport              1   \n",
       "270881                 Hilton Garden Inn Seattle/Issaquah              1   \n",
       "270882              Homewood Suites by Hilton Waco, Texas              1   \n",
       "270883                 Embassy Suites by Hilton Las Vegas              1   \n",
       "270884                          Hampton Inn Bowling Green              1   \n",
       "270885                                     Conrad Bangkok              3   \n",
       "270886        Hampton Inn Chicago/Westchester (Oak Brook)              2   \n",
       "\n",
       "                                              Room Type Date of Arrival  \\\n",
       "270867                          HIGH FLOOR-2 QUEEN BEDS      2017-11-22   \n",
       "270868                                       1 KING BED      2017-10-16   \n",
       "270869                         1 KING CORNER SOFABED NS      2017-12-15   \n",
       "270870                                     2 QUEEN BEDS      2017-10-20   \n",
       "270871  1 KING PREMIUM SUITE NS,1 KING PREMIUM SUITE NS      2017-12-30   \n",
       "270872                        1KG JUNIOR SUITE OCEAN VW      2017-10-02   \n",
       "270873                        1 KING W SOFA STD CITY VW      2017-10-02   \n",
       "270874                        1KING W/FRIDGE NONSMOKING      2017-10-04   \n",
       "270875                                     2 QUEEN BEDS      2017-09-29   \n",
       "270876                                    2 DOUBLE BEDS      2017-11-29   \n",
       "270877                        1QN MOB/HEARING ACC W/TUB      2017-10-25   \n",
       "270878                                       1 KING BED      2017-09-29   \n",
       "270879                              KING BED NONSMOKING      2017-10-20   \n",
       "270880                                       1 KING BED      2017-10-21   \n",
       "270881      1 KING BED,1 KING BED,1 KING BED,1 KING BED      2017-12-04   \n",
       "270882                       2QN 1BDRM LAKEVW STE NONSM      2017-10-01   \n",
       "270883                            1 KING BED NONSMOKING      2017-09-29   \n",
       "270884                            1 KING BED NONSMOKING      2017-09-29   \n",
       "270885                             KING BED DELUXE ROOM      2017-10-09   \n",
       "270886                       1KING STUDY SOFABED NOSMOK      2017-11-11   \n",
       "\n",
       "       Hotel location city Hotel location country Customer location - city  \\\n",
       "270867        Cleveland,OH                     US            BOCA RATON,FL   \n",
       "270868        Arlington,VA                     US           CHULA VISTA,CA   \n",
       "270869         New York,NY                     US              MARIETTA,GA   \n",
       "270870     Jacksonville,FL                     US             SAN DIEGO,CA   \n",
       "270871           Sedona,AZ                     US               ORLANDO,FL   \n",
       "270872            Kapaa,HI                     US            GLOUCESTER,VA   \n",
       "270873         Honolulu,HI                     US            BELLEVILLE,IL   \n",
       "270874           Silao,GUA                     MX         HUBER HEIGHTS,OH   \n",
       "270875         Savannah,GA                     US              SAVANNAH,GA   \n",
       "270876      Los Angeles,CA                     US                OXFORD,AL   \n",
       "270877       Emeryville,CA                     US         THOUSAND OAKS,CA   \n",
       "270878            Dania,FL                     US             WESTFIELD,MA   \n",
       "270879         New York,NY                     US               MINOOKA,IL   \n",
       "270880          Chicago,IL                     US                Olathe,KS   \n",
       "270881         Issaquah,WA                     US              LA VERNE,CA   \n",
       "270882             Waco,TX                     US              KINGWOOD,TX   \n",
       "270883        Las Vegas,NV                     US              TEMECULA,CA   \n",
       "270884    Bowling Green,KY                     US   MT LEBANON TOWNSHIP,PA   \n",
       "270885        Bangkok,null                     TH               ATLANTA,GA   \n",
       "270886      Westchester,IL                     US                BARDOWICK   \n",
       "\n",
       "       Customer location - country Hotel_Tier Payment Type Currency  \\\n",
       "270867                          US     Silver           MC      USD   \n",
       "270868                          US    Diamond           AX      USD   \n",
       "270869                          US     Silver           VI      USD   \n",
       "270870                          US    Diamond           AX      USD   \n",
       "270871                          US       Blue           MC      USD   \n",
       "270872                          US       Blue           VI      USD   \n",
       "270873                          US    Diamond           AX      USD   \n",
       "270874                          US    Diamond           VI      MXN   \n",
       "270875                          US     Silver           MC      USD   \n",
       "270876                          US     Silver           VI      USD   \n",
       "270877                          US       Blue           VI      USD   \n",
       "270878                          US       Blue           MC      USD   \n",
       "270879                          US     Silver           VI      USD   \n",
       "270880                          US     Silver           VI      USD   \n",
       "270881                          US     Silver           VI      USD   \n",
       "270882                          US     Silver           AX      USD   \n",
       "270883                          US    Diamond           VI      USD   \n",
       "270884                          US    Diamond           VI      USD   \n",
       "270885                          US       Blue           VI      THB   \n",
       "270886                          DE       Gold           MC      USD   \n",
       "\n",
       "        Total_Price Customer language  No_of_rooms  Price_In_USD  \n",
       "270867       421.35                en            1     421.35000  \n",
       "270868       550.00                en            1     550.00000  \n",
       "270869       627.30                en            1     627.30000  \n",
       "270870         0.00                en            1       0.00000  \n",
       "270871       720.00                en            2     720.00000  \n",
       "270872       819.28                en            1     819.28000  \n",
       "270873       531.00                en            1     531.00000  \n",
       "270874      1749.30                en            1      91.20438  \n",
       "270875        35.00                en            1      35.00000  \n",
       "270876        89.50                en            1      89.50000  \n",
       "270877       290.03                en            1     290.03000  \n",
       "270878        34.02                en            1      34.02000  \n",
       "270879       147.81                en            1     147.81000  \n",
       "270880       152.00                en            1     152.00000  \n",
       "270881       604.20                en            4     604.20000  \n",
       "270882       134.10                en            1     134.10000  \n",
       "270883         0.00                en            1       0.00000  \n",
       "270884       116.62                en            1     116.62000  \n",
       "270885     13260.00                en            1     398.43750  \n",
       "270886       178.20                en            1     178.20000  "
      ]
     },
     "execution_count": 26,
     "metadata": {},
     "output_type": "execute_result"
    }
   ],
   "source": [
    "df.tail(20)"
   ]
  },
  {
   "cell_type": "markdown",
   "id": "a7fc5bce",
   "metadata": {},
   "source": [
    "### Total number of unique currencies"
   ]
  },
  {
   "cell_type": "code",
   "execution_count": 28,
   "id": "0d8ecc2c",
   "metadata": {},
   "outputs": [
    {
     "data": {
      "text/plain": [
       "43"
      ]
     },
     "execution_count": 28,
     "metadata": {},
     "output_type": "execute_result"
    }
   ],
   "source": [
    "df[\"Currency\"].value_counts().count()"
   ]
  },
  {
   "cell_type": "markdown",
   "id": "1576a568",
   "metadata": {},
   "source": [
    "### Plotting highest amount spent by different Currencies before and after conversion into USD"
   ]
  },
  {
   "cell_type": "code",
   "execution_count": 30,
   "id": "79124f3e",
   "metadata": {},
   "outputs": [],
   "source": [
    "td = df.groupby([\"Currency\"]).Total_Price.sum([\"value_counts\"]).sort_values(ascending = False).head(10)"
   ]
  },
  {
   "cell_type": "code",
   "execution_count": 31,
   "id": "31d29ea5",
   "metadata": {},
   "outputs": [
    {
     "data": {
      "text/plain": [
       "Currency\n",
       "IDR    5.595576e+08\n",
       "KRW    1.786125e+08\n",
       "JPY    8.401339e+07\n",
       "USD    6.846677e+07\n",
       "COP    4.006779e+07\n",
       "ISK    1.138033e+07\n",
       "THB    6.604804e+06\n",
       "NGN    3.517884e+06\n",
       "XPF    3.373360e+06\n",
       "CNY    3.245072e+06\n",
       "Name: Total_Price, dtype: float64"
      ]
     },
     "execution_count": 31,
     "metadata": {},
     "output_type": "execute_result"
    }
   ],
   "source": [
    "td"
   ]
  },
  {
   "cell_type": "code",
   "execution_count": 95,
   "id": "c2b29121",
   "metadata": {},
   "outputs": [
    {
     "data": {
      "text/plain": [
       "Text(0.5, 1.0, 'Before Converting currencies into USD')"
      ]
     },
     "execution_count": 95,
     "metadata": {},
     "output_type": "execute_result"
    },
    {
     "data": {
      "image/png": "[encoded data removed]",
      "text/plain": [
       "<Figure size 1152x576 with 1 Axes>"
      ]
     },
     "metadata": {},
     "output_type": "display_data"
    }
   ],
   "source": [
    "plt.figure(figsize=(16,8))\n",
    "td.plot(kind = \"bar\")\n",
    "plt.title(\"Before Converting currencies into USD\")"
   ]
  },
  {
   "cell_type": "code",
   "execution_count": 96,
   "id": "68d827df",
   "metadata": {},
   "outputs": [],
   "source": [
    "te = df.groupby([\"Currency\"]).Price_In_USD.sum([\"value_counts\"]).sort_values(ascending = False).head(10)"
   ]
  },
  {
   "cell_type": "code",
   "execution_count": 97,
   "id": "75015087",
   "metadata": {},
   "outputs": [
    {
     "data": {
      "text/plain": [
       "Currency\n",
       "USD    6.846677e+07\n",
       "GBP    3.271563e+06\n",
       "EUR    2.794624e+06\n",
       "CAD    1.095296e+06\n",
       "JPY    7.405323e+05\n",
       "CNY    4.894529e+05\n",
       "AED    3.468690e+05\n",
       "AUD    3.434920e+05\n",
       "SGD    2.000529e+05\n",
       "THB    1.984617e+05\n",
       "Name: Price_In_USD, dtype: float64"
      ]
     },
     "execution_count": 97,
     "metadata": {},
     "output_type": "execute_result"
    }
   ],
   "source": [
    "te"
   ]
  },
  {
   "cell_type": "code",
   "execution_count": 98,
   "id": "83e4ab26",
   "metadata": {},
   "outputs": [
    {
     "data": {
      "text/plain": [
       "Text(0.5, 1.0, 'After converting all currencies amount to USD standard')"
      ]
     },
     "execution_count": 98,
     "metadata": {},
     "output_type": "execute_result"
    },
    {
     "data": {
      "image/png": "[encoded data removed]",
      "text/plain": [
       "<Figure size 1152x576 with 1 Axes>"
      ]
     },
     "metadata": {},
     "output_type": "display_data"
    }
   ],
   "source": [
    "plt.figure(figsize = (16,8))\n",
    "te.plot(kind=\"bar\")\n",
    "plt.title(\"After converting all currencies amount to USD standard\")"
   ]
  },
  {
   "cell_type": "code",
   "execution_count": 99,
   "id": "2071a068",
   "metadata": {},
   "outputs": [
    {
     "data": {
      "text/plain": [
       "<AxesSubplot:title={'center':'After converting currencies to USD'}, xlabel='Currency'>"
      ]
     },
     "execution_count": 99,
     "metadata": {},
     "output_type": "execute_result"
    },
    {
     "data": {
      "image/png": "[encoded data removed]",
      "text/plain": [
       "<Figure size 1152x360 with 2 Axes>"
      ]
     },
     "metadata": {},
     "output_type": "display_data"
    }
   ],
   "source": [
    "fig, ax = plt.subplots(nrows=1, ncols=2, figsize=(16,5))\n",
    "td.plot(kind=\"bar\", ax = ax[1], title = \"Max Total Amount spent in respective Currencies\")\n",
    "te.plot(kind=\"bar\", ax=ax[0], title = \"After converting currencies to USD\")"
   ]
  },
  {
   "cell_type": "code",
   "execution_count": 37,
   "id": "ef2f207a",
   "metadata": {},
   "outputs": [
    {
     "data": {
      "text/plain": [
       "US    234079\n",
       "GB      9839\n",
       "CA      4144\n",
       "CN      2515\n",
       "DE      1984\n",
       "       ...  \n",
       "AM         4\n",
       "ME         4\n",
       "NC         4\n",
       "GE         4\n",
       "MM         3\n",
       "Name: Hotel location country, Length: 93, dtype: int64"
      ]
     },
     "execution_count": 37,
     "metadata": {},
     "output_type": "execute_result"
    }
   ],
   "source": [
    "df[\"Hotel location country\"].value_counts()"
   ]
  },
  {
   "cell_type": "markdown",
   "id": "c32d9702",
   "metadata": {},
   "source": [
    "### Number of countries which has made less Revenue"
   ]
  },
  {
   "cell_type": "code",
   "execution_count": 64,
   "id": "6afec9f2",
   "metadata": {},
   "outputs": [
    {
     "data": {
      "text/plain": [
       "Text(0.5, 1.0, 'Number of countries which has made less Revenue')"
      ]
     },
     "execution_count": 64,
     "metadata": {},
     "output_type": "execute_result"
    },
    {
     "data": {
      "image/png": "[encoded data removed]",
      "text/plain": [
       "<Figure size 1080x504 with 1 Axes>"
      ]
     },
     "metadata": {
      "needs_background": "light"
     },
     "output_type": "display_data"
    }
   ],
   "source": [
    "plt.figure(figsize=(15,7))\n",
    "ee = df.groupby([\"Hotel location country\"])[\"Price_In_USD\"].sum().sort_values().head(10).plot(kind=\"barh\",cmap=\"crest\")\n",
    "plt.xlabel(\"Price\")\n",
    "plt.title(\"Number of countries which has made less Revenue\")"
   ]
  },
  {
   "cell_type": "code",
   "execution_count": 39,
   "id": "200d3c0b",
   "metadata": {},
   "outputs": [
    {
     "data": {
      "text/plain": [
       "Hotel location country\n",
       "MM     546.750000\n",
       "ME     640.116279\n",
       "GT    1709.960000\n",
       "AZ    1827.517647\n",
       "NC    1834.448454\n",
       "HN    1880.840000\n",
       "KZ    2396.850000\n",
       "MA    2496.357895\n",
       "GE    2757.820000\n",
       "NI    2879.080000\n",
       "Name: Price_In_USD, dtype: float64"
      ]
     },
     "execution_count": 39,
     "metadata": {},
     "output_type": "execute_result"
    }
   ],
   "source": [
    "ee"
   ]
  },
  {
   "cell_type": "code",
   "execution_count": 40,
   "id": "068eaec5",
   "metadata": {},
   "outputs": [
    {
     "data": {
      "text/plain": [
       "Index(['Date', 'Cookie ID', 'Source', 'Hotel Name', 'No. of nights',\n",
       "       'Room Type', 'Date of Arrival', 'Hotel location city',\n",
       "       'Hotel location country', 'Customer location - city',\n",
       "       'Customer location - country', 'Hotel_Tier', 'Payment Type', 'Currency',\n",
       "       'Total_Price', 'Customer language', 'No_of_rooms', 'Price_In_USD'],\n",
       "      dtype='object')"
      ]
     },
     "execution_count": 40,
     "metadata": {},
     "output_type": "execute_result"
    }
   ],
   "source": [
    "df.columns"
   ]
  },
  {
   "cell_type": "code",
   "execution_count": 42,
   "id": "b50034c4",
   "metadata": {},
   "outputs": [
    {
     "data": {
      "text/plain": [
       "1    250753\n",
       "2     16780\n",
       "3      2104\n",
       "4       664\n",
       "5       256\n",
       "6       150\n",
       "8        68\n",
       "7        59\n",
       "9        53\n",
       "Name: No_of_rooms, dtype: int64"
      ]
     },
     "execution_count": 42,
     "metadata": {},
     "output_type": "execute_result"
    }
   ],
   "source": [
    "df[\"No_of_rooms\"].value_counts()"
   ]
  },
  {
   "cell_type": "code",
   "execution_count": 43,
   "id": "fb9f41e5",
   "metadata": {},
   "outputs": [
    {
     "data": {
      "text/html": [
       "<div>\n",
       "<style scoped>\n",
       "    .dataframe tbody tr th:only-of-type {\n",
       "        vertical-align: middle;\n",
       "    }\n",
       "\n",
       "    .dataframe tbody tr th {\n",
       "        vertical-align: top;\n",
       "    }\n",
       "\n",
       "    .dataframe thead th {\n",
       "        text-align: right;\n",
       "    }\n",
       "</style>\n",
       "<table border=\"1\" class=\"dataframe\">\n",
       "  <thead>\n",
       "    <tr style=\"text-align: right;\">\n",
       "      <th></th>\n",
       "      <th>value_counts</th>\n",
       "    </tr>\n",
       "  </thead>\n",
       "  <tbody>\n",
       "    <tr>\n",
       "      <th>1</th>\n",
       "      <td>250753</td>\n",
       "    </tr>\n",
       "    <tr>\n",
       "      <th>2</th>\n",
       "      <td>16780</td>\n",
       "    </tr>\n",
       "    <tr>\n",
       "      <th>3</th>\n",
       "      <td>2104</td>\n",
       "    </tr>\n",
       "    <tr>\n",
       "      <th>4</th>\n",
       "      <td>664</td>\n",
       "    </tr>\n",
       "    <tr>\n",
       "      <th>5</th>\n",
       "      <td>256</td>\n",
       "    </tr>\n",
       "  </tbody>\n",
       "</table>\n",
       "</div>"
      ],
      "text/plain": [
       "   value_counts\n",
       "1        250753\n",
       "2         16780\n",
       "3          2104\n",
       "4           664\n",
       "5           256"
      ]
     },
     "execution_count": 43,
     "metadata": {},
     "output_type": "execute_result"
    }
   ],
   "source": [
    "df[\"No_of_rooms\"].agg([\"value_counts\"]).head()"
   ]
  },
  {
   "cell_type": "markdown",
   "id": "a2ffeded",
   "metadata": {},
   "source": [
    "### Frequency of number of rooms booked overall"
   ]
  },
  {
   "cell_type": "code",
   "execution_count": 103,
   "id": "997365fa",
   "metadata": {},
   "outputs": [
    {
     "data": {
      "image/png": "[encoded data removed]",
      "text/plain": [
       "<Figure size 720x504 with 1 Axes>"
      ]
     },
     "metadata": {},
     "output_type": "display_data"
    }
   ],
   "source": [
    "No_of_rooms = [\"1 room\", \"2 room\", \"3 room\", \"4 room\", \"5 room\"]\n",
    "values = df.No_of_rooms.value_counts().head()\n",
    "\n",
    "plt.figure(figsize = (10, 7))\n",
    "plt.pie(values, labels = No_of_rooms, explode = (0.1, 0.11, 0.14, 0.25, 0.350), autopct = \"%.2f%%\",startangle = 90)\n",
    "plt.legend()\n",
    "\n",
    "plt.show();"
   ]
  },
  {
   "cell_type": "code",
   "execution_count": 104,
   "id": "782eb1e6",
   "metadata": {},
   "outputs": [
    {
     "data": {
      "text/plain": [
       "Hilton Los Angeles Airport                            1052\n",
       "Hilton Hawaiian Village Waikiki Beach Resort           712\n",
       "New York Hilton Midtown                                647\n",
       "Tropicana Las Vegas - a DoubleTree by Hilton Hotel     633\n",
       "Hilton Anaheim                                         582\n",
       "                                                      ... \n",
       "Embassy Suites by Hilton Houston West - Katy             1\n",
       "Hampton Inn Kernersville                                 1\n",
       "Hilton Garden Inn Phoenix-Tempe ASU Research Park        1\n",
       "Tru by Hilton Tallahassee Central                        1\n",
       "Hilton Garden Inn Sivas                                  1\n",
       "Name: Hotel Name, Length: 4140, dtype: int64"
      ]
     },
     "execution_count": 104,
     "metadata": {},
     "output_type": "execute_result"
    }
   ],
   "source": [
    "df[\"Hotel Name\"].value_counts()"
   ]
  },
  {
   "cell_type": "markdown",
   "id": "03428357",
   "metadata": {},
   "source": [
    "### The hotels with good value counts of Hotel Tier"
   ]
  },
  {
   "cell_type": "code",
   "execution_count": 105,
   "id": "6c6ccc5c",
   "metadata": {},
   "outputs": [
    {
     "data": {
      "text/plain": [
       "Text(0.5, 0, 'Value counts of bookings')"
      ]
     },
     "execution_count": 105,
     "metadata": {},
     "output_type": "execute_result"
    },
    {
     "data": {
      "image/png": "[encoded data removed]",
      "text/plain": [
       "<Figure size 720x432 with 1 Axes>"
      ]
     },
     "metadata": {},
     "output_type": "display_data"
    }
   ],
   "source": [
    "plt.figure(figsize=(10,6))\n",
    "df.groupby([\"Hotel_Tier\"])[\"Hotel Name\"].agg(\"value_counts\").sort_values(ascending=False).head(9).plot(kind=\"barh\")\n",
    "plt.title(\"Hotels with value count of respective hotel_tier\")\n",
    "plt.xlabel(\"Value counts of bookings\")"
   ]
  },
  {
   "cell_type": "code",
   "execution_count": 83,
   "id": "9ed93ef9",
   "metadata": {},
   "outputs": [
    {
     "data": {
      "text/plain": [
       "VI    130420\n",
       "AX     81029\n",
       "MC     53671\n",
       "DS      4952\n",
       "DC       220\n",
       "JC       186\n",
       "CU       120\n",
       "Name: Payment Type, dtype: int64"
      ]
     },
     "execution_count": 83,
     "metadata": {},
     "output_type": "execute_result"
    }
   ],
   "source": [
    "df[\"Payment Type\"].value_counts()"
   ]
  },
  {
   "cell_type": "markdown",
   "id": "90506543",
   "metadata": {},
   "source": [
    "### Payment type opted for different Hotel Tiers"
   ]
  },
  {
   "cell_type": "code",
   "execution_count": 89,
   "id": "5529a589",
   "metadata": {},
   "outputs": [
    {
     "data": {
      "text/plain": [
       "<AxesSubplot:xlabel='Payment Type', ylabel='count'>"
      ]
     },
     "execution_count": 89,
     "metadata": {},
     "output_type": "execute_result"
    },
    {
     "data": {
      "image/png": "[encoded data removed]",
      "text/plain": [
       "<Figure size 1152x576 with 1 Axes>"
      ]
     },
     "metadata": {},
     "output_type": "display_data"
    }
   ],
   "source": [
    "plt.figure(figsize=(16,8))\n",
    "sns.countplot(x = \"Payment Type\", data=df, hue = \"Hotel_Tier\")"
   ]
  },
  {
   "cell_type": "code",
   "execution_count": 83,
   "id": "933535d8",
   "metadata": {},
   "outputs": [
    {
     "data": {
      "text/plain": [
       "Hotel_Tier\n",
       "Blue       349.603650\n",
       "Diamond    307.224925\n",
       "Silver     277.874506\n",
       "Gold       249.384326\n",
       "Name: Price_In_USD, dtype: float64"
      ]
     },
     "execution_count": 83,
     "metadata": {},
     "output_type": "execute_result"
    }
   ],
   "source": [
    "df.groupby([\"Hotel_Tier\"])[\"Price_In_USD\"].mean().sort_values(ascending=False)"
   ]
  },
  {
   "cell_type": "code",
   "execution_count": 93,
   "id": "a6384fb5",
   "metadata": {},
   "outputs": [
    {
     "data": {
      "text/plain": [
       "3636.5001606204805"
      ]
     },
     "execution_count": 93,
     "metadata": {},
     "output_type": "execute_result"
    }
   ],
   "source": [
    "df[\"Total_Price\"].mean()"
   ]
  },
  {
   "cell_type": "code",
   "execution_count": null,
   "id": "27edcefa",
   "metadata": {},
   "outputs": [],
   "source": []
  }
 ],
 "metadata": {
  "kernelspec": {
   "display_name": "Python 3 (ipykernel)",
   "language": "python",
   "name": "python3"
  },
  "language_info": {
   "codemirror_mode": {
    "name": "ipython",
    "version": 3
   },
   "file_extension": ".py",
   "mimetype": "text/x-python",
   "name": "python",
   "nbconvert_exporter": "python",
   "pygments_lexer": "ipython3",
   "version": "3.8.5"
  }
 },
 "nbformat": 4,
 "nbformat_minor": 5
}
